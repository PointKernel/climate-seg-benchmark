{
 "cells": [
  {
   "cell_type": "code",
   "execution_count": 1,
   "metadata": {},
   "outputs": [],
   "source": [
    "import numpy as np\n",
    "import math\n",
    "from scipy.optimize import minimize\n",
    "import matplotlib.pyplot as plt\n",
    "import sys\n",
    "import os\n",
    "import pandas as pd\n",
    "import matplotlib.patches as mpatches\n",
    "%matplotlib inline\n",
    "\n"
   ]
  },
  {
   "cell_type": "markdown",
   "metadata": {},
   "source": [
    "# Global Parameters"
   ]
  },
  {
   "cell_type": "code",
   "execution_count": 2,
   "metadata": {},
   "outputs": [],
   "source": [
    "# mycolor\n",
    "pytorch    = '#136aa8'\n",
    "tensorflow = '#ff7527'\n",
    "mycolors   = [pytorch, tensorflow]\n",
    "\n",
    "# working dirs\n",
    "datadir = \"../results/tf_fp32_amp_fw\"\n",
    "ptdir   = \"/global/homes/y/yswang/mlperf-deepcam/analysis\""
   ]
  },
  {
   "cell_type": "markdown",
   "metadata": {},
   "source": [
    "# Load Data"
   ]
  },
  {
   "cell_type": "code",
   "execution_count": 3,
   "metadata": {},
   "outputs": [],
   "source": [
    "selectkeys = ['Name', 'Invocations', 'CUDA Time', 'Performance GFlop/s', 'FLOPs', 'L1 AI', 'L2 AI', 'DRAM AI', 'L1 Bytes', 'L2 Bytes', 'DRAM Bytes']\n",
    "\n",
    "tfcombineddf = pd.read_csv(os.path.join(datadir,\"combined_profile.csv\"))\n",
    "ptcombineddf = pd.read_csv(os.path.join(ptdir,\"combined.csv\"))\n",
    "tfprofiledf  = pd.read_csv(os.path.join(datadir,\"full_profile.csv\"))\n",
    "ptprofiledf  = pd.read_csv(os.path.join(ptdir,\"profile.csv\"))"
   ]
  },
  {
   "cell_type": "markdown",
   "metadata": {},
   "source": [
    "# PyTorch vs. Tensorflow (FW pass only)"
   ]
  },
  {
   "cell_type": "markdown",
   "metadata": {},
   "source": [
    "## Overview\n",
    "* Total number of FLOPs are similar\n",
    "* PT has 2.2x more data movement\n",
    "* PT is 3x slower"
   ]
  },
  {
   "cell_type": "code",
   "execution_count": 4,
   "metadata": {},
   "outputs": [
    {
     "data": {
      "text/html": [
       "<div>\n",
       "<style scoped>\n",
       "    .dataframe tbody tr th:only-of-type {\n",
       "        vertical-align: middle;\n",
       "    }\n",
       "\n",
       "    .dataframe tbody tr th {\n",
       "        vertical-align: top;\n",
       "    }\n",
       "\n",
       "    .dataframe thead th {\n",
       "        text-align: right;\n",
       "    }\n",
       "</style>\n",
       "<table border=\"1\" class=\"dataframe\">\n",
       "  <thead>\n",
       "    <tr style=\"text-align: right;\">\n",
       "      <th></th>\n",
       "      <th>Name</th>\n",
       "      <th>Invocations</th>\n",
       "      <th>CUDA Time</th>\n",
       "      <th>Performance GFlop/s</th>\n",
       "      <th>FLOPs</th>\n",
       "      <th>L1 AI</th>\n",
       "      <th>L2 AI</th>\n",
       "      <th>DRAM AI</th>\n",
       "      <th>L1 Bytes</th>\n",
       "      <th>L2 Bytes</th>\n",
       "      <th>DRAM Bytes</th>\n",
       "    </tr>\n",
       "  </thead>\n",
       "  <tbody>\n",
       "    <tr>\n",
       "      <td>1</td>\n",
       "      <td>PyTorch</td>\n",
       "      <td>4782</td>\n",
       "      <td>0.615992</td>\n",
       "      <td>17808.638230</td>\n",
       "      <td>1.096998e+13</td>\n",
       "      <td>17.879697</td>\n",
       "      <td>45.521630</td>\n",
       "      <td>90.478692</td>\n",
       "      <td>6.135442e+11</td>\n",
       "      <td>2.409840e+11</td>\n",
       "      <td>1.212438e+11</td>\n",
       "    </tr>\n",
       "    <tr>\n",
       "      <td>0</td>\n",
       "      <td>Tensorflow</td>\n",
       "      <td>525</td>\n",
       "      <td>0.197169</td>\n",
       "      <td>54591.034436</td>\n",
       "      <td>1.076368e+13</td>\n",
       "      <td>28.311635</td>\n",
       "      <td>74.542778</td>\n",
       "      <td>231.336538</td>\n",
       "      <td>3.801859e+11</td>\n",
       "      <td>1.443961e+11</td>\n",
       "      <td>4.652825e+10</td>\n",
       "    </tr>\n",
       "  </tbody>\n",
       "</table>\n",
       "</div>"
      ],
      "text/plain": [
       "         Name  Invocations  CUDA Time  Performance GFlop/s         FLOPs  \\\n",
       "1     PyTorch         4782   0.615992         17808.638230  1.096998e+13   \n",
       "0  Tensorflow          525   0.197169         54591.034436  1.076368e+13   \n",
       "\n",
       "       L1 AI      L2 AI     DRAM AI      L1 Bytes      L2 Bytes    DRAM Bytes  \n",
       "1  17.879697  45.521630   90.478692  6.135442e+11  2.409840e+11  1.212438e+11  \n",
       "0  28.311635  74.542778  231.336538  3.801859e+11  1.443961e+11  4.652825e+10  "
      ]
     },
     "metadata": {},
     "output_type": "display_data"
    }
   ],
   "source": [
    "tfcombineddf['Name'] = 'Tensorflow'\n",
    "tfdf = tfcombineddf[selectkeys]\n",
    "\n",
    "ptcombineddf['Name'] = 'PyTorch'\n",
    "ptdf = ptcombineddf.loc[ptcombineddf['Pass'].str.contains(\"forward\"), selectkeys].copy()\n",
    "\n",
    "combineddf = ptdf.append(tfdf)\n",
    "\n",
    "display(combineddf)"
   ]
  },
  {
   "cell_type": "markdown",
   "metadata": {},
   "source": [
    "## Detailed comparison"
   ]
  },
  {
   "cell_type": "code",
   "execution_count": 5,
   "metadata": {},
   "outputs": [],
   "source": [
    "ptdf = ptprofiledf.loc[ptprofiledf['Pass'].str.contains(\"forward\"), selectkeys].sort_values('CUDA Time', ascending=False).reset_index(drop=True).copy()\n",
    "#profiledf = profiledf.sort_values('CUDA Time', ascending=False).reset_index(drop=True)\n",
    "tfdf = tfprofiledf[selectkeys].copy()\n",
    "\n",
    "# print\n",
    "#display(ptdf)\n",
    "#display(tfdf)"
   ]
  },
  {
   "cell_type": "markdown",
   "metadata": {},
   "source": [
    "### Top 5 kernels"
   ]
  },
  {
   "cell_type": "code",
   "execution_count": 6,
   "metadata": {},
   "outputs": [],
   "source": [
    "topN = 5\n",
    "\n",
    "# get top5 kernels\n",
    "top_tfdf = tfdf.head(topN).copy()\n",
    "top_ptdf = ptdf.head(topN).copy()\n",
    "\n",
    "# insert total runtime\n",
    "tf_runtime = tfdf['CUDA Time'].sum()\n",
    "pt_runtime = ptdf['CUDA Time'].sum()\n",
    "top_tfdf['Total Time'] = tf_runtime\n",
    "top_ptdf['Total Time'] = pt_runtime\n",
    "# insert total FLOPs\n",
    "tf_flops = tfdf['FLOPs'].sum()\n",
    "pt_flops = ptdf['FLOPs'].sum()\n",
    "top_tfdf['Total FLOPs'] = tf_flops\n",
    "top_ptdf['Total FLOPs'] = pt_flops\n",
    "# insert total bytes\n",
    "tf_bytes = tfdf['DRAM Bytes'].sum()\n",
    "pt_bytes = ptdf['DRAM Bytes'].sum()\n",
    "top_tfdf['Total Bytes'] = tf_bytes\n",
    "top_ptdf['Total Bytes'] = pt_bytes\n",
    "# insert total invocations\n",
    "tf_calls = tfdf['Invocations'].sum()\n",
    "pt_calls = ptdf['Invocations'].sum()\n",
    "top_tfdf['Total Invocations'] = tf_calls\n",
    "top_ptdf['Total Invocations'] = pt_calls\n",
    "\n",
    "top_tfdf['Name'] = 'Tensorflow'\n",
    "top_ptdf['Name'] = 'PyTorch'\n",
    "\n",
    "# merge\n",
    "topdf = top_tfdf.append(top_ptdf)\n",
    "topdf = topdf.groupby(['Name', 'Total Time', 'Total FLOPs', 'Total Bytes', 'Total Invocations']).sum().reset_index()\n",
    "\n",
    "# recalculate AI and FLOP rates\n",
    "topdf['Performance GFlop/s'] = topdf['FLOPs'] / topdf['CUDA Time'] /1e9\n",
    "topdf['DRAM AI'] = topdf['FLOPs'] / topdf['DRAM Bytes']\n",
    "topdf['% of overall runtime'] = topdf['CUDA Time'] / topdf['Total Time']*100\n",
    "topdf['% of overall FLOPs'] = topdf['FLOPs'] / topdf['Total FLOPs']*100\n",
    "topdf['% of overall bytes'] = topdf['DRAM Bytes'] / topdf['Total Bytes']*100\n",
    "topdf['% of invocations'] = topdf['Invocations'] / topdf['Total Invocations']*100\n",
    "\n",
    "# cleanups\n",
    "del topdf['Total Time']\n",
    "del topdf['Total FLOPs']\n",
    "del topdf['Total Bytes']\n",
    "#del topdf['CUDA Time']"
   ]
  },
  {
   "cell_type": "markdown",
   "metadata": {},
   "source": [
    "#### Top 5 kernels: results\n",
    "* PyTorch: 20% less FLOPs but 2x more data transfer\n",
    "* Tensorflow: top 5 kernels take 83% overall FLOPs"
   ]
  },
  {
   "cell_type": "code",
   "execution_count": 7,
   "metadata": {},
   "outputs": [
    {
     "data": {
      "text/html": [
       "<div>\n",
       "<style scoped>\n",
       "    .dataframe tbody tr th:only-of-type {\n",
       "        vertical-align: middle;\n",
       "    }\n",
       "\n",
       "    .dataframe tbody tr th {\n",
       "        vertical-align: top;\n",
       "    }\n",
       "\n",
       "    .dataframe thead th {\n",
       "        text-align: right;\n",
       "    }\n",
       "</style>\n",
       "<table border=\"1\" class=\"dataframe\">\n",
       "  <thead>\n",
       "    <tr style=\"text-align: right;\">\n",
       "      <th></th>\n",
       "      <th>Name</th>\n",
       "      <th>Total Invocations</th>\n",
       "      <th>Invocations</th>\n",
       "      <th>CUDA Time</th>\n",
       "      <th>Performance GFlop/s</th>\n",
       "      <th>FLOPs</th>\n",
       "      <th>L1 AI</th>\n",
       "      <th>L2 AI</th>\n",
       "      <th>DRAM AI</th>\n",
       "      <th>L1 Bytes</th>\n",
       "      <th>L2 Bytes</th>\n",
       "      <th>DRAM Bytes</th>\n",
       "      <th>% of overall runtime</th>\n",
       "      <th>% of overall FLOPs</th>\n",
       "      <th>% of overall bytes</th>\n",
       "      <th>% of invocations</th>\n",
       "    </tr>\n",
       "  </thead>\n",
       "  <tbody>\n",
       "    <tr>\n",
       "      <td>0</td>\n",
       "      <td>PyTorch</td>\n",
       "      <td>4782</td>\n",
       "      <td>870</td>\n",
       "      <td>0.436819</td>\n",
       "      <td>16892.264094</td>\n",
       "      <td>7.378854e+12</td>\n",
       "      <td>53.904114</td>\n",
       "      <td>160.803622</td>\n",
       "      <td>147.95286</td>\n",
       "      <td>3.796209e+11</td>\n",
       "      <td>1.185500e+11</td>\n",
       "      <td>4.987300e+10</td>\n",
       "      <td>70.912983</td>\n",
       "      <td>67.264033</td>\n",
       "      <td>41.134465</td>\n",
       "      <td>18.193225</td>\n",
       "    </tr>\n",
       "    <tr>\n",
       "      <td>1</td>\n",
       "      <td>Tensorflow</td>\n",
       "      <td>525</td>\n",
       "      <td>55</td>\n",
       "      <td>0.137755</td>\n",
       "      <td>68187.979565</td>\n",
       "      <td>9.393260e+12</td>\n",
       "      <td>104.706961</td>\n",
       "      <td>347.987467</td>\n",
       "      <td>380.94602</td>\n",
       "      <td>3.081753e+11</td>\n",
       "      <td>1.069312e+11</td>\n",
       "      <td>2.465772e+10</td>\n",
       "      <td>69.866488</td>\n",
       "      <td>87.268078</td>\n",
       "      <td>52.995159</td>\n",
       "      <td>10.476190</td>\n",
       "    </tr>\n",
       "  </tbody>\n",
       "</table>\n",
       "</div>"
      ],
      "text/plain": [
       "         Name  Total Invocations  Invocations  CUDA Time  Performance GFlop/s  \\\n",
       "0     PyTorch               4782          870   0.436819         16892.264094   \n",
       "1  Tensorflow                525           55   0.137755         68187.979565   \n",
       "\n",
       "          FLOPs       L1 AI       L2 AI    DRAM AI      L1 Bytes  \\\n",
       "0  7.378854e+12   53.904114  160.803622  147.95286  3.796209e+11   \n",
       "1  9.393260e+12  104.706961  347.987467  380.94602  3.081753e+11   \n",
       "\n",
       "       L2 Bytes    DRAM Bytes  % of overall runtime  % of overall FLOPs  \\\n",
       "0  1.185500e+11  4.987300e+10             70.912983           67.264033   \n",
       "1  1.069312e+11  2.465772e+10             69.866488           87.268078   \n",
       "\n",
       "   % of overall bytes  % of invocations  \n",
       "0           41.134465         18.193225  \n",
       "1           52.995159         10.476190  "
      ]
     },
     "metadata": {},
     "output_type": "display_data"
    }
   ],
   "source": [
    "# print\n",
    "display(topdf)"
   ]
  },
  {
   "cell_type": "markdown",
   "metadata": {},
   "source": [
    "### Mutual kernels\n",
    "* Different algorithms calling same kernels (FLOPs/Bytes are so different)\n",
    "* 2 common kernels out of 50-ish kernels in total"
   ]
  },
  {
   "cell_type": "code",
   "execution_count": 8,
   "metadata": {},
   "outputs": [
    {
     "data": {
      "text/html": [
       "<div>\n",
       "<style scoped>\n",
       "    .dataframe tbody tr th:only-of-type {\n",
       "        vertical-align: middle;\n",
       "    }\n",
       "\n",
       "    .dataframe tbody tr th {\n",
       "        vertical-align: top;\n",
       "    }\n",
       "\n",
       "    .dataframe thead th {\n",
       "        text-align: right;\n",
       "    }\n",
       "</style>\n",
       "<table border=\"1\" class=\"dataframe\">\n",
       "  <thead>\n",
       "    <tr style=\"text-align: right;\">\n",
       "      <th></th>\n",
       "      <th>Name</th>\n",
       "      <th>Invocations (PT)</th>\n",
       "      <th>CUDA Time (PT)</th>\n",
       "      <th>Performance GFlop/s (PT)</th>\n",
       "      <th>FLOPs (PT)</th>\n",
       "      <th>L1 AI (PT)</th>\n",
       "      <th>L2 AI (PT)</th>\n",
       "      <th>DRAM AI (PT)</th>\n",
       "      <th>L1 Bytes (PT)</th>\n",
       "      <th>L2 Bytes (PT)</th>\n",
       "      <th>...</th>\n",
       "      <th>Invocations (TF)</th>\n",
       "      <th>CUDA Time (TF)</th>\n",
       "      <th>Performance GFlop/s (TF)</th>\n",
       "      <th>FLOPs (TF)</th>\n",
       "      <th>L1 AI (TF)</th>\n",
       "      <th>L2 AI (TF)</th>\n",
       "      <th>DRAM AI (TF)</th>\n",
       "      <th>L1 Bytes (TF)</th>\n",
       "      <th>L2 Bytes (TF)</th>\n",
       "      <th>DRAM Bytes (TF)</th>\n",
       "    </tr>\n",
       "  </thead>\n",
       "  <tbody>\n",
       "    <tr>\n",
       "      <td>0</td>\n",
       "      <td>Volta_hmma_implicit_gemm_fprop_fp32_nhwc_128x1...</td>\n",
       "      <td>8</td>\n",
       "      <td>0.065602</td>\n",
       "      <td>92779.253285</td>\n",
       "      <td>6.086531e+12</td>\n",
       "      <td>30.198476</td>\n",
       "      <td>93.814744</td>\n",
       "      <td>978.214529</td>\n",
       "      <td>2.015509e+11</td>\n",
       "      <td>6.487819e+10</td>\n",
       "      <td>...</td>\n",
       "      <td>12</td>\n",
       "      <td>0.021563</td>\n",
       "      <td>97460.747863</td>\n",
       "      <td>2.101531e+12</td>\n",
       "      <td>33.129705</td>\n",
       "      <td>97.819241</td>\n",
       "      <td>1303.492971</td>\n",
       "      <td>6.343343e+10</td>\n",
       "      <td>2.148382e+10</td>\n",
       "      <td>1.612230e+09</td>\n",
       "    </tr>\n",
       "    <tr>\n",
       "      <td>1</td>\n",
       "      <td>cudnn::gemm::computeOffsetsKernel(cudnn::gemm:...</td>\n",
       "      <td>19</td>\n",
       "      <td>0.000106</td>\n",
       "      <td>0.000000</td>\n",
       "      <td>0.000000e+00</td>\n",
       "      <td>0.000000</td>\n",
       "      <td>0.000000</td>\n",
       "      <td>0.000000</td>\n",
       "      <td>1.623891e+07</td>\n",
       "      <td>1.636845e+07</td>\n",
       "      <td>...</td>\n",
       "      <td>432</td>\n",
       "      <td>0.001419</td>\n",
       "      <td>0.000000</td>\n",
       "      <td>0.000000e+00</td>\n",
       "      <td>0.000000</td>\n",
       "      <td>0.000000</td>\n",
       "      <td>0.000000</td>\n",
       "      <td>5.272643e+07</td>\n",
       "      <td>5.960026e+07</td>\n",
       "      <td>1.525824e+06</td>\n",
       "    </tr>\n",
       "  </tbody>\n",
       "</table>\n",
       "<p>2 rows × 21 columns</p>\n",
       "</div>"
      ],
      "text/plain": [
       "                                                Name  Invocations (PT)  \\\n",
       "0  Volta_hmma_implicit_gemm_fprop_fp32_nhwc_128x1...                 8   \n",
       "1  cudnn::gemm::computeOffsetsKernel(cudnn::gemm:...                19   \n",
       "\n",
       "   CUDA Time (PT)  Performance GFlop/s (PT)    FLOPs (PT)  L1 AI (PT)  \\\n",
       "0        0.065602              92779.253285  6.086531e+12   30.198476   \n",
       "1        0.000106                  0.000000  0.000000e+00    0.000000   \n",
       "\n",
       "   L2 AI (PT)  DRAM AI (PT)  L1 Bytes (PT)  L2 Bytes (PT)  ...  \\\n",
       "0   93.814744    978.214529   2.015509e+11   6.487819e+10  ...   \n",
       "1    0.000000      0.000000   1.623891e+07   1.636845e+07  ...   \n",
       "\n",
       "   Invocations (TF)  CUDA Time (TF)  Performance GFlop/s (TF)    FLOPs (TF)  \\\n",
       "0                12        0.021563              97460.747863  2.101531e+12   \n",
       "1               432        0.001419                  0.000000  0.000000e+00   \n",
       "\n",
       "   L1 AI (TF)  L2 AI (TF)  DRAM AI (TF)  L1 Bytes (TF)  L2 Bytes (TF)  \\\n",
       "0   33.129705   97.819241   1303.492971   6.343343e+10   2.148382e+10   \n",
       "1    0.000000    0.000000      0.000000   5.272643e+07   5.960026e+07   \n",
       "\n",
       "   DRAM Bytes (TF)  \n",
       "0     1.612230e+09  \n",
       "1     1.525824e+06  \n",
       "\n",
       "[2 rows x 21 columns]"
      ]
     },
     "metadata": {},
     "output_type": "display_data"
    }
   ],
   "source": [
    "tmpdf = tfdf.merge(ptdf, on='Name', how='inner')\n",
    "tmpdf.columns = tmpdf.columns.str.replace('_x',' (PT)')\n",
    "tmpdf.columns = tmpdf.columns.str.replace('_y',' (TF)')\n",
    "display(tmpdf)"
   ]
  },
  {
   "cell_type": "markdown",
   "metadata": {},
   "source": [
    "### Time & AI"
   ]
  },
  {
   "cell_type": "code",
   "execution_count": 9,
   "metadata": {},
   "outputs": [
    {
     "name": "stdout",
     "output_type": "stream",
     "text": [
      "Tensorflow AI : 0.0 - 978.21453\n",
      "PyTorch AI    : 0.0 - 1303.49297\n"
     ]
    },
    {
     "data": {
      "image/png": "[encoded data removed]",
      "text/plain": [
       "<Figure size 1080x360 with 1 Axes>"
      ]
     },
     "metadata": {
      "needs_background": "light"
     },
     "output_type": "display_data"
    }
   ],
   "source": [
    "# AI range\n",
    "ltfai = list(tfdf['DRAM AI'])\n",
    "lptai = list(ptdf['DRAM AI'])\n",
    "print('Tensorflow AI : {} - {:.5f}'.format(min(ltfai), max(ltfai)))\n",
    "print('PyTorch AI    : {} - {:.5f}'.format(min(lptai), max(lptai)))\n",
    "\n",
    "min_ai = 0.\n",
    "max_ai = 1400.\n",
    "\n",
    "# hist parameters\n",
    "N = 20\n",
    "stride = (max_ai - min_ai) / N\n",
    "\n",
    "lhistid = []\n",
    "lai     = []\n",
    "\n",
    "for i in range(N):\n",
    "    lhistid.append(i)\n",
    "    airange = '[ ' + str(int(i * stride)) + ', ' + str(int((i+1) * stride)) + ' )'\n",
    "    lai.append(airange)\n",
    "\n",
    "resdf = pd.DataFrame({'Hist ID': lhistid, 'AI': lai})\n",
    "\n",
    "def ai_classifier(row):\n",
    "    res = '[ ' + str(int(row['DRAM AI'] / stride)*int(stride))\\\n",
    "          + ', ' + str(int(row['DRAM AI'] / stride + 1)*int(stride)) + ' )'\n",
    "    return res\n",
    "\n",
    "def hist_classifier(row):\n",
    "    return int(row['DRAM AI'] / stride)\n",
    "    \n",
    "tfdf['AI'] = tfdf.apply(ai_classifier, axis=1)\n",
    "ptdf['AI'] = ptdf.apply(ai_classifier, axis=1)\n",
    "tfdf['Hist ID'] = tfdf.apply(hist_classifier, axis=1)\n",
    "ptdf['Hist ID'] = ptdf.apply(hist_classifier, axis=1)\n",
    "\n",
    "tmptf = tfdf.groupby(['Hist ID', 'AI']).sum().reset_index()\n",
    "tmppt = ptdf.groupby(['Hist ID', 'AI']).sum().reset_index()\n",
    "\n",
    "tmptf = tmptf.merge(tmppt, on=['Hist ID', 'AI'], how='outer')\n",
    "resdf = resdf.merge(tmptf, on=['Hist ID', 'AI'], how='outer')\n",
    "resdf = resdf[['Hist ID', 'AI', 'CUDA Time_x', 'CUDA Time_y']].fillna(0.).rename(columns={\"CUDA Time_x\": 'Tensorflow', 'CUDA Time_y': 'PyTorch'}).sort_values('Hist ID')\n",
    "#display(resdf)\n",
    "\n",
    "ax = resdf.plot.bar(x='AI', y=['PyTorch', 'Tensorflow'], figsize=(15, 5), title='Time elapsed in each AI range', width=0.9, color=mycolors)\n",
    "ax = ax.set(ylabel='Time (seconds)')"
   ]
  }
 ],
 "metadata": {
  "kernelspec": {
   "display_name": "Python 3",
   "language": "python",
   "name": "python3"
  },
  "language_info": {
   "codemirror_mode": {
    "name": "ipython",
    "version": 3
   },
   "file_extension": ".py",
   "mimetype": "text/x-python",
   "name": "python",
   "nbconvert_exporter": "python",
   "pygments_lexer": "ipython3",
   "version": "3.7.4"
  }
 },
 "nbformat": 4,
 "nbformat_minor": 4
}
